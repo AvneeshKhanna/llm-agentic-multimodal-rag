{
 "cells": [
  {
   "cell_type": "markdown",
   "metadata": {},
   "source": [
    "# Multimodal RAG using a simple AI Agent with complex PDF files"
   ]
  },
  {
   "cell_type": "markdown",
   "metadata": {},
   "source": [
    "Let's start by loading the environment variables we need to use."
   ]
  },
  {
   "cell_type": "code",
   "execution_count": null,
   "metadata": {},
   "outputs": [],
   "source": [
    "import sys\n",
    "print(sys.executable)\n",
    "\n",
    "import pydantic\n",
    "print(pydantic.__version__)"
   ]
  },
  {
   "cell_type": "code",
   "execution_count": 177,
   "metadata": {},
   "outputs": [],
   "source": [
    "import os\n",
    "from dotenv import load_dotenv\n",
    "\n",
    "load_dotenv()\n",
    "LLAMA_CLOUD_API_KEY = os.getenv(\"LLAMA_CLOUD_API_KEY\")"
   ]
  },
  {
   "cell_type": "markdown",
   "metadata": {},
   "source": [
    "## Setting up the model\n",
    "Let's define the LLM model that we'll use as part of the workflow."
   ]
  },
  {
   "cell_type": "code",
   "execution_count": 178,
   "metadata": {},
   "outputs": [],
   "source": [
    "MODEL = \"llama3.2-vision:11b-instruct-q4_K_M\""
   ]
  },
  {
   "cell_type": "code",
   "execution_count": 179,
   "metadata": {},
   "outputs": [
    {
     "name": "stdout",
     "output_type": "stream",
     "text": [
      "llama3.2-vision:11b-instruct-q4_K_M\n"
     ]
    }
   ],
   "source": [
    "print(MODEL)"
   ]
  },
  {
   "cell_type": "markdown",
   "metadata": {},
   "source": [
    "### Parsing raw pdf using LlamaParse for getting Json Structured Output"
   ]
  },
  {
   "cell_type": "code",
   "execution_count": 6,
   "metadata": {},
   "outputs": [],
   "source": [
    "# llama-parse is async-first, running the async code in a notebook requires the use of nest_asyncio\n",
    "import nest_asyncio\n",
    "\n",
    "nest_asyncio.apply()"
   ]
  },
  {
   "cell_type": "code",
   "execution_count": null,
   "metadata": {},
   "outputs": [],
   "source": [
    "from llama_parse import LlamaParse\n",
    "\n",
    "# Conc ophilips AIM Report\n",
    "pdf_file = \"./2023-conocophillips-aim-presentation.pdf\"\n",
    "\n",
    "not_from_cache = False\n",
    "parser_txt = LlamaParse(verbose=True, invalidate_cache=not_from_cache, result_type=\"text\")\n",
    "parser_md = LlamaParse(verbose=True, invalidate_cache=not_from_cache, result_type=\"markdown\")"
   ]
  },
  {
   "cell_type": "code",
   "execution_count": 8,
   "metadata": {},
   "outputs": [
    {
     "name": "stdout",
     "output_type": "stream",
     "text": [
      "Parsing text...\n",
      "WARNING: parsing_instruction is deprecated. Use complemental_formatting_instruction or content_guideline_instruction instead.\n",
      "Started parsing the file under job_id 6703c119-5620-4e4b-9d64-4fdd25e2fb2c\n",
      "Parsing PDF file...\n",
      "WARNING: parsing_instruction is deprecated. Use complemental_formatting_instruction or content_guideline_instruction instead.\n",
      "Started parsing the file under job_id f51bdebf-3653-4264-ae88-c990c01cb515\n"
     ]
    }
   ],
   "source": [
    "print(f\"Parsing text...\")\n",
    "docs_text = parser_txt.load_data(pdf_file)\n",
    "print(f\"Parsing PDF file...\")\n",
    "md_json_objs = parser_md.get_json_result(pdf_file)\n",
    "md_json_list = md_json_objs[0][\"pages\"]"
   ]
  },
  {
   "cell_type": "markdown",
   "metadata": {},
   "source": [
    "### Output one page Json output for example "
   ]
  },
  {
   "cell_type": "code",
   "execution_count": 9,
   "metadata": {},
   "outputs": [
    {
     "name": "stdout",
     "output_type": "stream",
     "text": [
      "# We Are Committed to Our Returns-Focused Value Proposition\n",
      "\n",
      "# Triple Mandate\n",
      "\n",
      "# Foundational Principles\n",
      "\n",
      "# Clear and Consistent Priorities\n",
      "\n",
      "Aligned to Business Realities\n",
      "\n",
      "|S=|Sustain production|and pay dividend|\n",
      "|---|---|---|\n",
      "|Balance Sheet|Strength|Strength|\n",
      "\n",
      "# MEET\n",
      "\n",
      "# DELIVER\n",
      "\n",
      "# PATHWAY DEMAND\n",
      "\n",
      "# TRANSITION COMPETITIVE RETURNS\n",
      "\n",
      "Annual dividend growth\n",
      "\n",
      "Disciplined Investments\n",
      "Peer-Leading Distributions\n",
      "'A-rated balance sheet\n",
      "# ACHIEVE NET-ZERO EMISSIONS AMBITION\n",
      "\n",
      "# ESG\n",
      "\n",
      "Excellence\n",
      "\n",
      "&gt;30% of CFO shareholder payout\n",
      "\n",
      "# Deliver Superior Returns Through Cycles\n",
      "\n",
      "Disciplined investment to enhance returns\n",
      "\n",
      "Scope Cash from operations (CFO) is a non-GAAP measure defined in the Appendix and 2 emissions on a gross operated and net equity basis.\n",
      "\n",
      "ConocoPhillips\n"
     ]
    }
   ],
   "source": [
    "print(md_json_list[5][\"md\"])"
   ]
  },
  {
   "cell_type": "markdown",
   "metadata": {},
   "source": [
    "### Extract images as dicts from parser"
   ]
  },
  {
   "cell_type": "code",
   "execution_count": null,
   "metadata": {},
   "outputs": [],
   "source": [
    "image_dicts = parser_md.get_images(md_json_objs, download_path=\"llm_images\")\n",
    "# print one image dict as example\n",
    "print(image_dicts[0])"
   ]
  },
  {
   "cell_type": "markdown",
   "metadata": {},
   "source": [
    "### Build Multimodal Index\n",
    "In this section we build the multimodal index over the parsed deck.\n",
    "\n",
    "We do this by creating text nodes from the document that contain metadata referencing the original image path.\n",
    "\n",
    "In this example we're indexing the text node for retrieval. The text node has a reference to both the parsed text as well as the image screenshot."
   ]
  },
  {
   "cell_type": "markdown",
   "metadata": {},
   "source": [
    "#### Get Text Nodes"
   ]
  },
  {
   "cell_type": "code",
   "execution_count": 71,
   "metadata": {},
   "outputs": [],
   "source": [
    "from pathlib import Path\n",
    "\n",
    "'''\n",
    "Create a dictionary which maps page numbers to image paths with the following format:\n",
    "\n",
    "{\n",
    "    1: [Path(\"path/to/image1\"), Path(\"path/to/image2\")],    \n",
    "    2: [Path(\"path/to/image3\"), Path(\"path/to/image4\")],\n",
    "}\n",
    "'''\n",
    "def create_image_index(image_dicts):\n",
    "    image_index = {}\n",
    "\n",
    "    for image_dict in image_dicts:\n",
    "        page_number = image_dict[\"page_number\"]\n",
    "        image_path = Path(image_dict[\"path\"])\n",
    "        if page_number in image_index:\n",
    "            image_index[page_number].append(image_path)\n",
    "        else:\n",
    "            image_index[page_number] = [image_path]\n",
    "\n",
    "    return image_index"
   ]
  },
  {
   "cell_type": "code",
   "execution_count": 95,
   "metadata": {},
   "outputs": [],
   "source": [
    "from copy import deepcopy\n",
    "\n",
    "from llama_index.core.schema import TextNode\n",
    "\n",
    "# attach image metadata to the text nodes\n",
    "def get_text_nodes(docs, json_dicts=None, image_dicts=None):\n",
    "    \"\"\"Split docs into nodes, by separator.\"\"\"\n",
    "    nodes = []\n",
    "\n",
    "    # Note: we assume that each PDF page contains exactly one image. \n",
    "    # If not, the code will need to be modified.\n",
    "    image_index = create_image_index(image_dicts) if image_dicts is not None else None\n",
    "\n",
    "    md_texts = [d[\"md\"] for d in json_dicts] if json_dicts is not None else None\n",
    "\n",
    "    doc_chunks = [c for d in docs for c in d.text.split(\"---\")]\n",
    "    for idx, doc_chunk in enumerate(doc_chunks):\n",
    "        page_num = idx + 1\n",
    "        chunk_metadata = {\"page_num\": page_num}\n",
    "        if image_index:\n",
    "            chunk_metadata[\"image_paths\"] = [str(path) for path in image_index[idx + 1]]\n",
    "        if md_texts is not None:\n",
    "            chunk_metadata[\"parsed_text_markdown\"] = md_texts[idx]\n",
    "        chunk_metadata[\"parsed_text\"] = doc_chunk\n",
    "        node = TextNode(\n",
    "            text=doc_chunk,\n",
    "            metadata=chunk_metadata,\n",
    "        )\n",
    "        nodes.append(node)\n",
    "\n",
    "    return nodes"
   ]
  },
  {
   "cell_type": "code",
   "execution_count": 96,
   "metadata": {},
   "outputs": [],
   "source": [
    "# this will split into pages\n",
    "text_nodes = get_text_nodes(docs_text, json_dicts=md_json_list, image_dicts=image_dicts)"
   ]
  },
  {
   "cell_type": "code",
   "execution_count": null,
   "metadata": {},
   "outputs": [
    {
     "name": "stdout",
     "output_type": "stream",
     "text": [
      "page_num: 7\n",
      "image_paths: ['llm_images\\\\f51bdebf-3653-4264-ae88-c990c01cb515-img_p6_1.png']\n",
      "parsed_text_markdown: # We Are Continuously Improving\n",
      "\n",
      "|Return on Capital Employed|2016|2019|2022| |\n",
      "|---|---|---|---|---|\n",
      "| | |-4%|10%|27%|\n",
      "\n",
      "Return of Capital\n",
      "$1.11/share\n",
      "$6.45/share\n",
      "$11.73/share\n",
      "Net Debt\n",
      "$24B\n",
      "$7B\n",
      "$7B\n",
      "Cash From Operations\n",
      "$5B\n",
      "$8B\n",
      "$12B\n",
      "$5B\n",
      "$29B\n",
      "$18B\n",
      "Free Cash Flow\n",
      "$40/BBL WTI\n",
      "Resource\n",
      "~10 BBOE\n",
      "~15 BBOE\n",
      "~20 BBOE\n",
      "Production\n",
      "1.6 MMBOED\n",
      "1.3 MMBOED\n",
      "1.7 MMBOED\n",
      "Emissions Intensity?\n",
      "~39\n",
      "~36\n",
      "~22\n",
      "1 Defined in the Appendix and presented on a per-share basis using average outstanding diluted shares. 2 Gross operated GHG emissions (Scope 1 and 2), 2022 is a preliminary estimate.\n",
      "\n",
      "Cash from operations (CFO), free cash flow (FCF), net debt and return on capital employed (ROCE) are non-GAAP measures. Definitions and reconciliations are included in the Appendix.\n",
      "\n",
      "ConocoPhillips\n",
      "parsed_text: We Are Continuously Improving\n",
      "                                                                                                                                                                        2016                                    2019                                                2022                            Foundational\n",
      "                                                                                                                                                          S43/BBL WTI                              S57/BBL WTI                                         S94/BBL WTI                               Principles\n",
      "                                  Return on                                                                                                                                    -4%                                    10%                                                  27%                                    Peer-Leading\n",
      "              Capital Employed                                                                                                                                                                                                                                                                                    Distributions\n",
      "                Return of Capitall                                                                                                                         S1.11/share                         64.45/share                                         $11.73/share                                                   and Returns\n",
      "                                    Net Debt                                                                                                                                $24B                                       S7B                                                  $7B               =                   Balance Sheet\n",
      "                                                                                                                                                                                                                                                                                          S=                      Strength\n",
      "Cash From Operations                                                                                                                                          $5B                     SOB           $12B                     S5B                     $29B                           S18B\n",
      "                     Free Cash Flow\n",
      "                              $40/BBL WTI                                                                Resource                                               ~                                                                 10 BBOE                                                                                                        ~15 BBOE  ~  20 BBOE  Disciplined\n",
      "                                                                                                                                                                                                                                                                                                                  Investments\n",
      "                               Production                                                                                                          1.6 MMBOED                              1.3 MMBOED                                           1.7 MMBOED\n",
      "         Emissions Intensity?                                                                                                                                                   ~39                                     ~36                                                  ~22                                  ESG\n",
      "                     (kg COze/BOE)                                                                                                                                                                                                                                                                                Excellence\n",
      "1Defined in the Appendix and presented on a per-share basis using average outstanding diluted shares. 2Gross operated GHG emissions (Scope                                                                                                 and 2), 2022 is a preliminary estimate.\n",
      "Cash from operations (CFO), free cash flow (FCF), net debt and return on capital employed (ROCE) are non-GAAP measures. Definitions and reconciliations are included in the Appendix                                                                                                                                             ConocoPhillips\n",
      "\n",
      "We Are Continuously Improving\n",
      "                                                                                                                                                                        2016                                    2019                                                2022                            Foundational\n",
      "                                                                                                                                                          S43/BBL WTI                              S57/BBL WTI                                         S94/BBL WTI                               Principles\n",
      "                                  Return on                                                                                                                                    -4%                                    10%                                                  27%                                    Peer-Leading\n",
      "              Capital Employed                                                                                                                                                                                                                                                                                    Distributions\n",
      "                Return of Capitall                                                                                                                         S1.11/share                         64.45/share                                         $11.73/share                                                   and Returns\n",
      "                                    Net Debt                                                                                                                                $24B                                       S7B                                                  $7B               =                   Balance Sheet\n",
      "                                                                                                                                                                                                                                                                                          S=                      Strength\n",
      "Cash From Operations                                                                                                                                          $5B                     SOB           $12B                     S5B                     $29B                           S18B\n",
      "                     Free Cash Flow\n",
      "                              $40/BBL WTI                                                                Resource                                               ~                                                                 10 BBOE                                                                                                        ~15 BBOE  ~  20 BBOE  Disciplined\n",
      "                                                                                                                                                                                                                                                                                                                  Investments\n",
      "                               Production                                                                                                          1.6 MMBOED                              1.3 MMBOED                                           1.7 MMBOED\n",
      "         Emissions Intensity?                                                                                                                                                   ~39                                     ~36                                                  ~22                                  ESG\n",
      "                     (kg COze/BOE)                                                                                                                                                                                                                                                                                Excellence\n",
      "1Defined in the Appendix and presented on a per-share basis using average outstanding diluted shares. 2Gross operated GHG emissions (Scope                                                                                                 and 2), 2022 is a preliminary estimate.\n",
      "Cash from operations (CFO), free cash flow (FCF), net debt and return on capital employed (ROCE) are non-GAAP measures. Definitions and reconciliations are included in the Appendix                                                                                                                                             ConocoPhillips\n"
     ]
    }
   ],
   "source": [
    "print(text_nodes[6].get_content(metadata_mode=\"all\"))"
   ]
  },
  {
   "cell_type": "markdown",
   "metadata": {},
   "source": [
    "#### Build Index\n",
    "Once the text nodes are ready, we feed into our vector store index abstraction, which will index these nodes into a simple in-memory vector store"
   ]
  },
  {
   "cell_type": "code",
   "execution_count": 156,
   "metadata": {},
   "outputs": [],
   "source": [
    "# set BAAI/bge-small-en-v1.5 as vector store embedding model \n",
    "from llama_index.embeddings.huggingface import HuggingFaceEmbedding\n",
    "\n",
    "vector_store_embedding = HuggingFaceEmbedding(\n",
    "    model_name=\"BAAI/bge-small-en-v1.5\"\n",
    ")"
   ]
  },
  {
   "cell_type": "code",
   "execution_count": 157,
   "metadata": {},
   "outputs": [],
   "source": [
    "import os\n",
    "from llama_index.core import (\n",
    "    StorageContext,\n",
    "    VectorStoreIndex,\n",
    "    load_index_from_storage,\n",
    ")\n",
    "\n",
    "index = None\n",
    "if not os.path.exists(\"storage_nodes\"):\n",
    "    index = VectorStoreIndex(text_nodes, embed_model=vector_store_embedding)\n",
    "    # save index to disk\n",
    "    index.set_index_id(\"vector_index\")\n",
    "    index.storage_context.persist(\"./storage_nodes\")\n",
    "else:\n",
    "    # rebuild storage context\n",
    "    storage_context = StorageContext.from_defaults(persist_dir=\"storage_nodes\")\n",
    "    # load index\n",
    "    index = load_index_from_storage(storage_context, index_id=\"vector_index\", embed_model=vector_store_embedding)"
   ]
  },
  {
   "cell_type": "markdown",
   "metadata": {},
   "source": [
    "### Build Multimodal Query Engine\n",
    "We now use LlamaIndex abstractions to build a custom query engine. In contrast to a standard RAG query engine that will retrieve the text node and only put that into the prompt (response synthesis module), this custom query engine will also load the image document, and put both the text and image document into the response synthesis module."
   ]
  },
  {
   "cell_type": "code",
   "execution_count": 155,
   "metadata": {},
   "outputs": [
    {
     "name": "stdout",
     "output_type": "stream",
     "text": [
      "The capital of France is Paris.\n"
     ]
    }
   ],
   "source": [
    "# set LLama3.2-11b-visions as Ollama model and perform a sanity check if it is working\n",
    "from llama_index.llms.ollama import Ollama\n",
    "\n",
    "llm_model=Ollama(model=MODEL, request_timeout=500)\n",
    "response = llm_model.complete(\"What is the capital of France?\")\n",
    "print(response)"
   ]
  },
  {
   "cell_type": "code",
   "execution_count": 149,
   "metadata": {},
   "outputs": [],
   "source": [
    "from llama_index.core.query_engine import CustomQueryEngine\n",
    "from llama_index.core.retrievers import BaseRetriever\n",
    "from llama_index.core.schema import ImageNode, NodeWithScore, MetadataMode\n",
    "from llama_index.core.prompts import PromptTemplate\n",
    "from llama_index.core.base.response.schema import Response\n",
    "from typing import Optional\n",
    "\n",
    "\n",
    "QA_PROMPT_TMPL = \"\"\"\\\n",
    "Use the image(s) information first and foremost. ONLY use the text/markdown information provided in the context\n",
    "below if you can't understand the image(s).\n",
    "\n",
    "---------------------\n",
    "Context: {context_str}\n",
    "---------------------\n",
    "Given the context information and no prior knowledge, answer the query. Explain where you got the answer\n",
    "from, and if there's discrepancies, and your reasoning for the final answer.\n",
    "\n",
    "Query: {query_str}\n",
    "Answer: \"\"\"\n",
    "\n",
    "QA_PROMPT = PromptTemplate(QA_PROMPT_TMPL)\n",
    "\n",
    "class MultimodalQueryEngine(CustomQueryEngine):\n",
    "    \"\"\"Custom multimodal Query Engine.\n",
    "\n",
    "    Takes in a retriever to retrieve a set of document nodes.\n",
    "    Also takes in a prompt template and multimodal model.\n",
    "\n",
    "    \"\"\"\n",
    "\n",
    "    qa_prompt: PromptTemplate\n",
    "    retriever: BaseRetriever\n",
    "    multi_modal_llm: Ollama\n",
    "\n",
    "    def __init__(self, qa_prompt: Optional[PromptTemplate] = None, **kwargs) -> None:\n",
    "        \"\"\"Initialize.\"\"\"\n",
    "        super().__init__(qa_prompt=qa_prompt or QA_PROMPT, **kwargs)\n",
    "\n",
    "    def custom_query(self, query_str: str):\n",
    "        # retrieve text nodes\n",
    "        nodes = self.retriever.retrieve(query_str)\n",
    "        # create ImageNode items from text nodes\n",
    "        image_nodes = [\n",
    "            NodeWithScore(node=ImageNode(image_path=image_path))\n",
    "            for n in nodes for image_path in n.metadata.get(\"image_paths\", [])\n",
    "        ]\n",
    "\n",
    "        # create context string from text nodes, dump into the prompt\n",
    "        context_str = \"\\n\\n\".join(\n",
    "            [r.get_content(metadata_mode=MetadataMode.LLM) for r in nodes]\n",
    "        )\n",
    "        fmt_prompt = self.qa_prompt.format(context_str=context_str, query_str=query_str)\n",
    "\n",
    "        image_docs = [image_node.node for image_node in image_nodes]\n",
    "        # synthesize an answer from formatted text and images\n",
    "        llm_response = self.multi_modal_llm.complete(\n",
    "            prompt=fmt_prompt,\n",
    "            image_documents=image_docs\n",
    "        )\n",
    "        return Response(\n",
    "            response=str(llm_response),\n",
    "            source_nodes=nodes,\n",
    "            metadata={\"text_nodes\": text_nodes, \"image_nodes\": image_nodes},\n",
    "        )\n"
   ]
  },
  {
   "cell_type": "code",
   "execution_count": 150,
   "metadata": {},
   "outputs": [],
   "source": [
    "query_engine = MultimodalQueryEngine(\n",
    "    retriever=index.as_retriever(similarity_top_k=5), multi_modal_llm=llm_model\n",
    ")"
   ]
  },
  {
   "cell_type": "code",
   "execution_count": 172,
   "metadata": {},
   "outputs": [
    {
     "name": "stdout",
     "output_type": "stream",
     "text": [
      "Based on the text, the average cost of supply in 2016 was $40/BBL WTI. To convert this amount to Indian Rupees (INR) using the current exchange rate, I'll use an approximate conversion rate of 1 USD = 75 INR.\n",
      "\n",
      "$40/BBL WTI ≈ ₹3000 per barrel\n",
      "\n",
      "Note: Please keep in mind that currency exchange rates may fluctuate frequently and might not be up-to-date at the time of my response. For accurate conversions, please check current exchange rates.\n",
      "\n",
      "This answer is derived from the text on page 15, which states:\n",
      "\n",
      "\"... Resource: ~ $40/BBL WTI ... Average Cost of Supply: $40/BBL WTI ...\"\n"
     ]
    }
   ],
   "source": [
    "# run a query\n",
    "response = query_engine.custom_query(\"What was the average cost of supply in 2016? Convert the amount to INR based on current exchange rate.\")\n",
    "print(response)"
   ]
  },
  {
   "cell_type": "markdown",
   "metadata": {},
   "source": [
    "### Building a Multimodal Agent"
   ]
  },
  {
   "cell_type": "code",
   "execution_count": 133,
   "metadata": {},
   "outputs": [
    {
     "name": "stdout",
     "output_type": "stream",
     "text": [
      "I can understand text-based descriptions of images, but I don't have the ability to directly process or interpret visual image data. However, I can:\n",
      "\n",
      "1. **Process text-to-image prompts**: You can describe an image using natural language, and I'll try to provide a textual description of what you're asking for.\n",
      "2. **Understand image metadata**: If you provide me with the metadata associated with an image (e.g., EXIF data), I can help answer questions about it.\n",
      "3. **Use text-based image descriptions**: If someone has described an image using natural language, I can process and respond to that description.\n",
      "\n",
      "If you'd like to use a specific format or library for image processing, such as:\n",
      "\n",
      "* OpenCV (Python)\n",
      "* Pillow (Python)\n",
      "* TensorFlow (TensorFlow.js)\n",
      "\n",
      "Please let me know which one you're interested in working with. However, keep in mind that I won't be able to directly process images from the internet or your local file system.\n",
      "\n",
      "Would you like to explore image processing using a specific library or format?\n"
     ]
    }
   ],
   "source": [
    "# set LLama3.1 as Ollama model for tool-calling since LLama3.2-vision currentlty does not support it\n",
    "# perform a sanity check if it is working\n",
    "from llama_index.llms.ollama import Ollama\n",
    "\n",
    "llm_model_tool_calling=Ollama(model=\"llama3.1\")\n",
    "response = llm_model_tool_calling.complete(\"Are you able to process image inputs?\")\n",
    "print(response)"
   ]
  },
  {
   "cell_type": "code",
   "execution_count": null,
   "metadata": {},
   "outputs": [],
   "source": [
    "import requests\n",
    "\n",
    "from llama_index.core.tools import QueryEngineTool\n",
    "from llama_index.core.agent import FunctionCallingAgentWorker\n",
    "\n",
    "from llama_index.core.tools import FunctionTool\n",
    "from pydantic import Field\n",
    "\n",
    "\n",
    "def currency_converter(from_currency_code: str = Field(\n",
    "        description=\"Country code of the currency to convert from (e.g., USD, INR, EUR)\"\n",
    "    ), to_currency_code: str = Field(\n",
    "        description=\"Country code of the currency to convert to (e.g., USD, INR, EUR)\"\n",
    "    ), amount: float = Field(\n",
    "        description=\"Currency amount to convert\"\n",
    "    )) -> float:\n",
    "\n",
    "    # free API for currency exchange rates\n",
    "    api_url = f\"https://api.vatcomply.com/rates?base={to_currency_code}\"\n",
    "    \n",
    "    response = requests.get(api_url)\n",
    "    data = response.json()\n",
    "    \n",
    "    if \"error\" in data:\n",
    "        raise ValueError(data[\"error\"])\n",
    "    \n",
    "    rates = data[\"rates\"]\n",
    "    conversion_factor = rates[from_currency_code]\n",
    "    converted_amount = float(amount) / conversion_factor\n",
    "    return converted_amount\n",
    "\n",
    "# Tool for currency conversion\n",
    "currency_converter_tool = FunctionTool.from_defaults(\n",
    "    currency_converter,\n",
    "    name=\"currency_converter_tool\",\n",
    "    description=\"Converts currency from one country code to country code based on current exchange rate. \"\n",
    "    \"Takes the currency amount value, the country code of the currency to convert from, and the country code \"\n",
    "    \"of the currency to convert to as input.\",\n",
    ")\n",
    "\n",
    "# Tool for querying the engine to retrieve contextual information around user query\n",
    "query_engine_tool = QueryEngineTool.from_defaults(\n",
    "    query_engine=query_engine,\n",
    "    name=\"query_engine_tool\",\n",
    "    description=(\n",
    "        \"Useful for retrieving specific context from the data. Do NOT select if question asks for a summary of the data.\"\n",
    "    ),\n",
    ")"
   ]
  },
  {
   "cell_type": "code",
   "execution_count": 173,
   "metadata": {},
   "outputs": [],
   "source": [
    "# Set-up the agent for calling the currency conversion and query engine tools\n",
    "agent = FunctionCallingAgentWorker.from_tools(\n",
    "    [currency_converter_tool, query_engine_tool], llm=llm_model_tool_calling, verbose=True\n",
    ").as_agent()"
   ]
  },
  {
   "cell_type": "code",
   "execution_count": 176,
   "metadata": {},
   "outputs": [
    {
     "name": "stdout",
     "output_type": "stream",
     "text": [
      "Added user message to memory: What was the average cost of supply in 2016? Convert the amount to INR based on current exchange rate.\n",
      "=== Calling Function ===\n",
      "Calling function: currency_converter_tool with args: {\"amount\": \"1000\", \"from_currency_code\": \"USD\", \"to_currency_code\": \"INR\"}\n",
      "=== Function Output ===\n",
      "87514.21412739714\n",
      "=== Calling Function ===\n",
      "Calling function: query_engine_tool with args: {\"input\": \"Average cost of supply in 2016\"}\n",
      "=== Function Output ===\n",
      "I found the relevant information on page 2 of the text, which states:\n",
      "\n",
      "\"...Lower 48 unconventional production of approximately 1.5 million barrels per day (MBOED) with an average cost of supply around $30-40 per barrel.\"\n",
      "\n",
      "However, this statement does not explicitly mention the year 2016.\n",
      "\n",
      "I then looked at page 3, which mentions:\n",
      "\n",
      "\"Deep; Durable and Diverse Portfolio with Significant Growth Runway\"\n",
      "\n",
      "And on page 5, I found a graph showing Lower 48 Unconventional Production (MBOED) for the years 2008-2022. Unfortunately, there is no information on the average cost of supply in 2016.\n",
      "\n",
      "However, looking at the table on page 41, which shows Permian Drives Free Cash Flow in Lower 48, I found a mention of the cost of supply:\n",
      "\n",
      "\"...<$35/BBL\"\n",
      "\n",
      "But this does not specifically relate to 2016 either.\n",
      "\n",
      "I also looked at other relevant pages but couldn't find any information that directly answers the question about the average cost of supply in 2016. It seems that the text does not provide specific data on the average cost of supply for the year 2016. Therefore, I am unable to determine a definitive answer based on the provided information.\n",
      "\n",
      "If you have access to more information or can provide additional context, please let me know and I will do my best to assist.\n",
      "=== Calling Function ===\n",
      "Calling function: currency_converter_tool with args: {\"amount\": \"30\", \"from_currency_code\": \"USD\", \"to_currency_code\": \"INR\"}\n",
      "=== Function Output ===\n",
      "2625.426423821914\n",
      "=== LLM Response ===\n",
      "The average cost of supply in 2016 was approximately $30 per barrel, which is equivalent to ₹ 2625.43 INR based on the current exchange rate.\n",
      "The average cost of supply in 2016 was approximately $30 per barrel, which is equivalent to ₹ 2625.43 INR based on the current exchange rate.\n"
     ]
    }
   ],
   "source": [
    "query = (\n",
    "    \"What was the average cost of supply in 2016? Convert the amount to INR based on current exchange rate.\"\n",
    ")\n",
    "response = agent.query(query)\n",
    "print(response)"
   ]
  }
 ],
 "metadata": {
  "kernelspec": {
   "display_name": "llm-tutorial",
   "language": "python",
   "name": "python3"
  },
  "language_info": {
   "codemirror_mode": {
    "name": "ipython",
    "version": 3
   },
   "file_extension": ".py",
   "mimetype": "text/x-python",
   "name": "python",
   "nbconvert_exporter": "python",
   "pygments_lexer": "ipython3",
   "version": "3.11.4"
  },
  "orig_nbformat": 4
 },
 "nbformat": 4,
 "nbformat_minor": 2
}
